{
 "cells": [
  {
   "cell_type": "code",
   "execution_count": 16,
   "metadata": {},
   "outputs": [],
   "source": [
    "import numpy as np \n",
    "import cv2\n",
    "from PIL import Image\n",
    "import matplotlib.pyplot as plt \n",
    "import os\n",
    "import torch\n",
    "import torch.nn as nn\n",
    "from torchvision.datasets.cifar import CIFAR10\n",
    "from torchvision.transforms import ToTensor\n",
    "import torchvision.transforms as T \n",
    "from torchvision.transforms import Compose\n",
    "from torchvision.transforms import RandomHorizontalFlip, RandomCrop,Normalize\n",
    "from torch.utils.data.dataloader import DataLoader\n",
    "from torch.optim.adam import Adam\n",
    "device='cuda:0' if torch.cuda.is_available() else 'cpu'\n",
    "\n",
    "class BasicBlock(nn.Module):\n",
    "    def __init__(self,in_channels,out_channels,kernel_size=3):\n",
    "        super(BasicBlock,self).__init__()\n",
    "        \n",
    "        self.c1=nn.Conv2d(in_channels,out_channels,kernel_size=kernel_size,padding=1)\n",
    "        self.c2=nn.Conv2d(out_channels,out_channels,kernel_size=kernel_size,padding=1)\n",
    "        \n",
    "        self.downsample=nn.Conv2d(in_channels,out_channels,kernel_size=1)\n",
    "        self.bn1=nn.BatchNorm2d(num_features=out_channels)\n",
    "        self.bn2=nn.BatchNorm2d(num_features=out_channels)\n",
    "        self.relu=nn.ReLU()\n",
    "        \n",
    "    def forward(self,x):\n",
    "        x_=x\n",
    "        \n",
    "        x=self.c1(x)\n",
    "        x=self.bn1(x)\n",
    "        x=self.relu(x)\n",
    "        x=self.c2(x)\n",
    "        x=self.bn2(x)\n",
    "        x_=self.downsample(x_)\n",
    "        x+=x_\n",
    "        x=self.relu(x)\n",
    "        return x\n",
    "        \n",
    "    "
   ]
  },
  {
   "cell_type": "code",
   "execution_count": 17,
   "metadata": {},
   "outputs": [],
   "source": [
    "\n",
    "\n",
    "class ResNet(nn.Module):\n",
    "    def __init__(self,num_classes=10):\n",
    "        super(ResNet,self).__init__()\n",
    "        \n",
    "        self.b1=BasicBlock(in_channels=3,out_channels=64)\n",
    "        self.b2=BasicBlock(in_channels=64,out_channels=128)\n",
    "        self.b3=BasicBlock(in_channels=128,out_channels=256)\n",
    "        \n",
    "        self.pool=nn.AvgPool2d(kernel_size=2,stride=2)\n",
    "        \n",
    "        self.fc1=nn.Linear(in_features=4096,out_features=2048)\n",
    "        self.fc2=nn.Linear(in_features=2048,out_features=512)\n",
    "        self.fc3=nn.Linear(in_features=512,out_features=num_classes)\n",
    "        \n",
    "        self.relu=nn.ReLU()\n",
    "        \n",
    "    def forward(self,x):\n",
    "        x=self.b1(x)\n",
    "        x=self.pool(x)\n",
    "        x=self.b2(x)\n",
    "        x=self.pool(x)\n",
    "        x=self.b3(x)\n",
    "        x=self.pool(x)\n",
    "        \n",
    "        x=torch.flatten(x,start_dim=1)\n",
    "        \n",
    "        x=self.fc1(x)\n",
    "        x=self.relu(x)\n",
    "        x=self.fc2(x)\n",
    "        x=self.relu(x)\n",
    "        x=self.fc3(x)\n",
    "        \n",
    "        return x\n",
    "        \n",
    "        \n",
    "        "
   ]
  },
  {
   "cell_type": "code",
   "execution_count": 21,
   "metadata": {},
   "outputs": [
    {
     "name": "stdout",
     "output_type": "stream",
     "text": [
      "Files already downloaded and verified\n",
      "Files already downloaded and verified\n"
     ]
    }
   ],
   "source": [
    "from torchvision.transforms import Resize,RandomHorizontalFlip,RandomCrop\n",
    "transforms=Compose([\n",
    "    RandomCrop((32,32),padding=4),\n",
    "    RandomHorizontalFlip(p=0.5),\n",
    "    T.ToTensor(),\n",
    "    Normalize(mean=(0.4914,0.4822,0.4465),std=(0.247,0.243,0.261)),\n",
    "])\n",
    "\n",
    "training_data=CIFAR10(\n",
    "    root='../data/',\n",
    "    train=True,\n",
    "    download=True,\n",
    "    transform=transforms\n",
    ")\n",
    "test_data=CIFAR10(\n",
    "    root='../data/',\n",
    "    train=False,\n",
    "    download=True,\n",
    "    transform=transforms\n",
    ")\n",
    "\n",
    "train_loader=DataLoader(training_data,batch_size=2048,shuffle=True)\n",
    "test_loader=DataLoader(test_data,batch_size=2048,shuffle=False)"
   ]
  },
  {
   "cell_type": "code",
   "execution_count": 22,
   "metadata": {},
   "outputs": [
    {
     "data": {
      "application/vnd.jupyter.widget-view+json": {
       "model_id": "a3df4b043e9c457494fd96a84518c7cc",
       "version_major": 2,
       "version_minor": 0
      },
      "text/plain": [
       "  0%|          | 0/25 [00:00<?, ?it/s]"
      ]
     },
     "metadata": {},
     "output_type": "display_data"
    },
    {
     "data": {
      "application/vnd.jupyter.widget-view+json": {
       "model_id": "4f07293135b94ec3ac69a390caca0bd8",
       "version_major": 2,
       "version_minor": 0
      },
      "text/plain": [
       "  0%|          | 0/25 [00:00<?, ?it/s]"
      ]
     },
     "metadata": {},
     "output_type": "display_data"
    },
    {
     "data": {
      "application/vnd.jupyter.widget-view+json": {
       "model_id": "bd103d08320e4a7ab22721ba688a93cb",
       "version_major": 2,
       "version_minor": 0
      },
      "text/plain": [
       "  0%|          | 0/25 [00:00<?, ?it/s]"
      ]
     },
     "metadata": {},
     "output_type": "display_data"
    },
    {
     "data": {
      "application/vnd.jupyter.widget-view+json": {
       "model_id": "dc6c27b5bb144feea55702ea94b400a0",
       "version_major": 2,
       "version_minor": 0
      },
      "text/plain": [
       "  0%|          | 0/25 [00:00<?, ?it/s]"
      ]
     },
     "metadata": {},
     "output_type": "display_data"
    },
    {
     "data": {
      "application/vnd.jupyter.widget-view+json": {
       "model_id": "fc6cc43480d94c598f9a0b665421733b",
       "version_major": 2,
       "version_minor": 0
      },
      "text/plain": [
       "  0%|          | 0/25 [00:00<?, ?it/s]"
      ]
     },
     "metadata": {},
     "output_type": "display_data"
    },
    {
     "data": {
      "application/vnd.jupyter.widget-view+json": {
       "model_id": "c13bc774ace145c48f03f2e6b6587cc5",
       "version_major": 2,
       "version_minor": 0
      },
      "text/plain": [
       "  0%|          | 0/25 [00:00<?, ?it/s]"
      ]
     },
     "metadata": {},
     "output_type": "display_data"
    },
    {
     "data": {
      "application/vnd.jupyter.widget-view+json": {
       "model_id": "914bdc999451413eb9855711983a36be",
       "version_major": 2,
       "version_minor": 0
      },
      "text/plain": [
       "  0%|          | 0/25 [00:00<?, ?it/s]"
      ]
     },
     "metadata": {},
     "output_type": "display_data"
    },
    {
     "data": {
      "application/vnd.jupyter.widget-view+json": {
       "model_id": "08e10089bc93406992b97162fb2a35e4",
       "version_major": 2,
       "version_minor": 0
      },
      "text/plain": [
       "  0%|          | 0/25 [00:00<?, ?it/s]"
      ]
     },
     "metadata": {},
     "output_type": "display_data"
    },
    {
     "data": {
      "application/vnd.jupyter.widget-view+json": {
       "model_id": "53fb8c5315de44dc8bc6aa37cc9744ba",
       "version_major": 2,
       "version_minor": 0
      },
      "text/plain": [
       "  0%|          | 0/25 [00:00<?, ?it/s]"
      ]
     },
     "metadata": {},
     "output_type": "display_data"
    },
    {
     "data": {
      "application/vnd.jupyter.widget-view+json": {
       "model_id": "5b6a86534bd14b70926b5c427c182022",
       "version_major": 2,
       "version_minor": 0
      },
      "text/plain": [
       "  0%|          | 0/25 [00:00<?, ?it/s]"
      ]
     },
     "metadata": {},
     "output_type": "display_data"
    },
    {
     "data": {
      "application/vnd.jupyter.widget-view+json": {
       "model_id": "52c3591ca1a64d1a9913c969cc5a69d3",
       "version_major": 2,
       "version_minor": 0
      },
      "text/plain": [
       "  0%|          | 0/25 [00:00<?, ?it/s]"
      ]
     },
     "metadata": {},
     "output_type": "display_data"
    },
    {
     "data": {
      "application/vnd.jupyter.widget-view+json": {
       "model_id": "cac669065a7e4cc1adf771af0fe12457",
       "version_major": 2,
       "version_minor": 0
      },
      "text/plain": [
       "  0%|          | 0/25 [00:00<?, ?it/s]"
      ]
     },
     "metadata": {},
     "output_type": "display_data"
    },
    {
     "data": {
      "application/vnd.jupyter.widget-view+json": {
       "model_id": "a489ddb4ab1c4438995c84b36df7e729",
       "version_major": 2,
       "version_minor": 0
      },
      "text/plain": [
       "  0%|          | 0/25 [00:00<?, ?it/s]"
      ]
     },
     "metadata": {},
     "output_type": "display_data"
    },
    {
     "data": {
      "application/vnd.jupyter.widget-view+json": {
       "model_id": "a75b74d59acd457bafcbbc731799f6a0",
       "version_major": 2,
       "version_minor": 0
      },
      "text/plain": [
       "  0%|          | 0/25 [00:00<?, ?it/s]"
      ]
     },
     "metadata": {},
     "output_type": "display_data"
    },
    {
     "data": {
      "application/vnd.jupyter.widget-view+json": {
       "model_id": "c783a884fbd6465db253b9875cf2f9b1",
       "version_major": 2,
       "version_minor": 0
      },
      "text/plain": [
       "  0%|          | 0/25 [00:00<?, ?it/s]"
      ]
     },
     "metadata": {},
     "output_type": "display_data"
    },
    {
     "data": {
      "application/vnd.jupyter.widget-view+json": {
       "model_id": "a02c78db2207476795a6b1f9353ee675",
       "version_major": 2,
       "version_minor": 0
      },
      "text/plain": [
       "  0%|          | 0/25 [00:00<?, ?it/s]"
      ]
     },
     "metadata": {},
     "output_type": "display_data"
    }
   ],
   "source": [
    "model=ResNet(num_classes=10)\n",
    "model.to(device)\n",
    "lr = 1e-4\n",
    "import tqdm\n",
    "optim = Adam(model.parameters(), lr=lr)\n",
    "\n",
    "for epoch in range(30):\n",
    "    iterator = tqdm.notebook.tqdm(train_loader)\n",
    "    for data, label in iterator:\n",
    "        optim.zero_grad()\n",
    "        preds = model(data.to(device))\n",
    "        loss = nn.CrossEntropyLoss()(preds, label.to(device))\n",
    "        loss.backward()\n",
    "        optim.step()\n",
    "        iterator.set_description(f\"epoch: {epoch+1} loss: {loss.item()}\")\n",
    "torch.save(model.state_dict(), \"../model/ResNet.pth\")"
   ]
  },
  {
   "cell_type": "code",
   "execution_count": null,
   "metadata": {},
   "outputs": [],
   "source": [
    "model.load_state_dict(torch.load(\"../model/ResNet.pth\",map_location=device))\n",
    "num_corr=0\n",
    "with torch.no_grad():\n",
    "    iterator = tqdm.tqdm_notebook(test_loader)\n",
    "    for data,label in iterator:\n",
    "        output=model(data.to(device))\n",
    "        preds=output.data.max(1)[1]\n",
    "        corr=preds.eq(label.to(device).data).sum().item()\n",
    "        num_corr+=corr\n",
    "\n",
    "    print(f\"Accuracy:{num_corr/len(test_data)}\")"
   ]
  }
 ],
 "metadata": {
  "kernelspec": {
   "display_name": "LeeYS_torch",
   "language": "python",
   "name": "python3"
  },
  "language_info": {
   "codemirror_mode": {
    "name": "ipython",
    "version": 3
   },
   "file_extension": ".py",
   "mimetype": "text/x-python",
   "name": "python",
   "nbconvert_exporter": "python",
   "pygments_lexer": "ipython3",
   "version": "3.9.15"
  },
  "orig_nbformat": 4
 },
 "nbformat": 4,
 "nbformat_minor": 2
}
