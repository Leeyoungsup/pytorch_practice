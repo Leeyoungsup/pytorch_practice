{
 "cells": [
  {
   "cell_type": "code",
   "execution_count": 1,
   "metadata": {},
   "outputs": [],
   "source": [
    "import numpy as np \n",
    "import cv2\n",
    "from PIL import Image\n",
    "import matplotlib.pyplot as plt \n",
    "import os\n",
    "import torch\n",
    "import torch.nn as nn\n",
    "from torchvision.datasets.cifar import CIFAR10\n",
    "from torchvision.transforms import ToTensor\n",
    "import torchvision.transforms as T \n",
    "from torchvision.transforms import Compose\n",
    "from torchvision.transforms import RandomHorizontalFlip, RandomCrop,Normalize\n",
    "from torch.utils.data.dataloader import DataLoader\n",
    "from torch.optim.adam import Adam\n",
    "device='cuda:0' if torch.cuda.is_available() else 'cpu'\n",
    "\n",
    "class BasicBlock(nn.Module):\n",
    "    def __init__(self,in_channels,out_channels,kernel_size=3):\n",
    "        super(BasicBlock,self).__init__()\n",
    "        \n",
    "        self.c1=nn.Conv2d(in_channels,out_channels,kernel_size=kernel_size,padding=1)\n",
    "        self.c2=nn.Conv2d(out_channels,out_channels,kernel_size=kernel_size,padding=1)\n",
    "        \n",
    "        self.downsample=nn.Conv2d(in_channels,out_channels,kernel_size=1)\n",
    "        self.bn1=nn.BatchNorm2d(num_features=out_channels)\n",
    "        self.bn2=nn.BatchNorm2d(num_features=out_channels)\n",
    "        self.relu=nn.ReLU()\n",
    "        \n",
    "    def forward(self,x):\n",
    "        x_=x\n",
    "        \n",
    "        x=self.c1(x)\n",
    "        x=self.bn1(x)\n",
    "        x=self.relu(x)\n",
    "        x=self.c2(x)\n",
    "        x=self.bn2(x)\n",
    "        x_=self.downsample(x_)\n",
    "        x+=x_\n",
    "        x=self.relu(x)\n",
    "        return x\n",
    "        \n",
    "    "
   ]
  },
  {
   "cell_type": "code",
   "execution_count": 2,
   "metadata": {},
   "outputs": [],
   "source": [
    "\n",
    "\n",
    "class ResNet(nn.Module):\n",
    "    def __init__(self,num_classes=10):\n",
    "        super(ResNet,self).__init__()\n",
    "        \n",
    "        self.b1=BasicBlock(in_channels=3,out_channels=64)\n",
    "        self.b2=BasicBlock(in_channels=64,out_channels=128)\n",
    "        self.b3=BasicBlock(in_channels=128,out_channels=256)\n",
    "        \n",
    "        self.pool=nn.AvgPool2d(kernel_size=2,stride=2)\n",
    "        \n",
    "        self.fc1=nn.Linear(in_features=4096,out_features=2048)\n",
    "        self.fc2=nn.Linear(in_features=2048,out_features=512)\n",
    "        self.fc3=nn.Linear(in_features=512,out_features=num_classes)\n",
    "        \n",
    "        self.relu=nn.ReLU()\n",
    "        \n",
    "    def forward(self,x):\n",
    "        x=self.b1(x)\n",
    "        x=self.pool(x)\n",
    "        x=self.b2(x)\n",
    "        x=self.pool(x)\n",
    "        x=self.b3(x)\n",
    "        x=self.pool(x)\n",
    "        \n",
    "        x=torch.flatten(x,start_dim=1)\n",
    "        \n",
    "        x=self.fc1(x)\n",
    "        x=self.relu(x)\n",
    "        x=self.fc2(x)\n",
    "        x=self.relu(x)\n",
    "        x=self.fc3(x)\n",
    "        \n",
    "        return x\n",
    "        \n",
    "        \n",
    "        "
   ]
  },
  {
   "cell_type": "code",
   "execution_count": 3,
   "metadata": {},
   "outputs": [
    {
     "name": "stdout",
     "output_type": "stream",
     "text": [
      "Files already downloaded and verified\n",
      "Files already downloaded and verified\n"
     ]
    }
   ],
   "source": [
    "from torchvision.transforms import Resize,RandomHorizontalFlip,RandomCrop\n",
    "transforms=Compose([\n",
    "    RandomCrop((32,32),padding=4),\n",
    "    RandomHorizontalFlip(p=0.5),\n",
    "    T.ToTensor(),\n",
    "    Normalize(mean=(0.4914,0.4822,0.4465),std=(0.247,0.243,0.261)),\n",
    "])\n",
    "\n",
    "training_data=CIFAR10(\n",
    "    root='../data/',\n",
    "    train=True,\n",
    "    download=True,\n",
    "    transform=transforms\n",
    ")\n",
    "test_data=CIFAR10(\n",
    "    root='../data/',\n",
    "    train=False,\n",
    "    download=True,\n",
    "    transform=transforms\n",
    ")\n",
    "\n",
    "train_loader=DataLoader(training_data,batch_size=2048,shuffle=True)\n",
    "test_loader=DataLoader(test_data,batch_size=2048,shuffle=False)"
   ]
  },
  {
   "cell_type": "code",
   "execution_count": 4,
   "metadata": {},
   "outputs": [
    {
     "data": {
      "application/vnd.jupyter.widget-view+json": {
       "model_id": "a70c25a1368745f6bb73055f87239dd7",
       "version_major": 2,
       "version_minor": 0
      },
      "text/plain": [
       "  0%|          | 0/25 [00:00<?, ?it/s]"
      ]
     },
     "metadata": {},
     "output_type": "display_data"
    },
    {
     "data": {
      "application/vnd.jupyter.widget-view+json": {
       "model_id": "7f48ec5b424a471092ce5d5d5a62db1a",
       "version_major": 2,
       "version_minor": 0
      },
      "text/plain": [
       "  0%|          | 0/25 [00:00<?, ?it/s]"
      ]
     },
     "metadata": {},
     "output_type": "display_data"
    },
    {
     "data": {
      "application/vnd.jupyter.widget-view+json": {
       "model_id": "4600387ee15b4a5aa3511cf4d6b7a6ae",
       "version_major": 2,
       "version_minor": 0
      },
      "text/plain": [
       "  0%|          | 0/25 [00:00<?, ?it/s]"
      ]
     },
     "metadata": {},
     "output_type": "display_data"
    },
    {
     "data": {
      "application/vnd.jupyter.widget-view+json": {
       "model_id": "037eb06090eb48dc9e74372805fcdd2d",
       "version_major": 2,
       "version_minor": 0
      },
      "text/plain": [
       "  0%|          | 0/25 [00:00<?, ?it/s]"
      ]
     },
     "metadata": {},
     "output_type": "display_data"
    },
    {
     "data": {
      "application/vnd.jupyter.widget-view+json": {
       "model_id": "4bf527e26f6a40f18d134f66d946c7ef",
       "version_major": 2,
       "version_minor": 0
      },
      "text/plain": [
       "  0%|          | 0/25 [00:00<?, ?it/s]"
      ]
     },
     "metadata": {},
     "output_type": "display_data"
    },
    {
     "data": {
      "application/vnd.jupyter.widget-view+json": {
       "model_id": "ef3091649ba949ee877326c781d85f55",
       "version_major": 2,
       "version_minor": 0
      },
      "text/plain": [
       "  0%|          | 0/25 [00:00<?, ?it/s]"
      ]
     },
     "metadata": {},
     "output_type": "display_data"
    },
    {
     "data": {
      "application/vnd.jupyter.widget-view+json": {
       "model_id": "dc0f42aeb9ab40dbb9f7e7010059bc19",
       "version_major": 2,
       "version_minor": 0
      },
      "text/plain": [
       "  0%|          | 0/25 [00:00<?, ?it/s]"
      ]
     },
     "metadata": {},
     "output_type": "display_data"
    },
    {
     "data": {
      "application/vnd.jupyter.widget-view+json": {
       "model_id": "69649ec56e5c4f0d873c5130cad834b1",
       "version_major": 2,
       "version_minor": 0
      },
      "text/plain": [
       "  0%|          | 0/25 [00:00<?, ?it/s]"
      ]
     },
     "metadata": {},
     "output_type": "display_data"
    },
    {
     "data": {
      "application/vnd.jupyter.widget-view+json": {
       "model_id": "a623309b3b9e4c96ae6053a8126bdbff",
       "version_major": 2,
       "version_minor": 0
      },
      "text/plain": [
       "  0%|          | 0/25 [00:00<?, ?it/s]"
      ]
     },
     "metadata": {},
     "output_type": "display_data"
    },
    {
     "data": {
      "application/vnd.jupyter.widget-view+json": {
       "model_id": "d759391c66e14a69879911437e56852a",
       "version_major": 2,
       "version_minor": 0
      },
      "text/plain": [
       "  0%|          | 0/25 [00:00<?, ?it/s]"
      ]
     },
     "metadata": {},
     "output_type": "display_data"
    },
    {
     "data": {
      "application/vnd.jupyter.widget-view+json": {
       "model_id": "01a0b267f0ac4f57bde6a3219d74504a",
       "version_major": 2,
       "version_minor": 0
      },
      "text/plain": [
       "  0%|          | 0/25 [00:00<?, ?it/s]"
      ]
     },
     "metadata": {},
     "output_type": "display_data"
    },
    {
     "data": {
      "application/vnd.jupyter.widget-view+json": {
       "model_id": "a25285b312df46e9b4c08c363c798c68",
       "version_major": 2,
       "version_minor": 0
      },
      "text/plain": [
       "  0%|          | 0/25 [00:00<?, ?it/s]"
      ]
     },
     "metadata": {},
     "output_type": "display_data"
    },
    {
     "data": {
      "application/vnd.jupyter.widget-view+json": {
       "model_id": "7a7085f4d41f4ed581bb5837e0c8e362",
       "version_major": 2,
       "version_minor": 0
      },
      "text/plain": [
       "  0%|          | 0/25 [00:00<?, ?it/s]"
      ]
     },
     "metadata": {},
     "output_type": "display_data"
    },
    {
     "data": {
      "application/vnd.jupyter.widget-view+json": {
       "model_id": "746517eadfe74434984a0ea02f5c7055",
       "version_major": 2,
       "version_minor": 0
      },
      "text/plain": [
       "  0%|          | 0/25 [00:00<?, ?it/s]"
      ]
     },
     "metadata": {},
     "output_type": "display_data"
    },
    {
     "data": {
      "application/vnd.jupyter.widget-view+json": {
       "model_id": "01c481051b6f4f889b21c2bedfc11410",
       "version_major": 2,
       "version_minor": 0
      },
      "text/plain": [
       "  0%|          | 0/25 [00:00<?, ?it/s]"
      ]
     },
     "metadata": {},
     "output_type": "display_data"
    },
    {
     "data": {
      "application/vnd.jupyter.widget-view+json": {
       "model_id": "5cc08063bb2c45d6a05564a4e084167b",
       "version_major": 2,
       "version_minor": 0
      },
      "text/plain": [
       "  0%|          | 0/25 [00:00<?, ?it/s]"
      ]
     },
     "metadata": {},
     "output_type": "display_data"
    },
    {
     "data": {
      "application/vnd.jupyter.widget-view+json": {
       "model_id": "3d55d2969de849779f2529f6638f0ac4",
       "version_major": 2,
       "version_minor": 0
      },
      "text/plain": [
       "  0%|          | 0/25 [00:00<?, ?it/s]"
      ]
     },
     "metadata": {},
     "output_type": "display_data"
    },
    {
     "data": {
      "application/vnd.jupyter.widget-view+json": {
       "model_id": "9e4301c73993474ebfda18357455e2f6",
       "version_major": 2,
       "version_minor": 0
      },
      "text/plain": [
       "  0%|          | 0/25 [00:00<?, ?it/s]"
      ]
     },
     "metadata": {},
     "output_type": "display_data"
    },
    {
     "data": {
      "application/vnd.jupyter.widget-view+json": {
       "model_id": "406fd9c70d534146aa86d23bb2d6a794",
       "version_major": 2,
       "version_minor": 0
      },
      "text/plain": [
       "  0%|          | 0/25 [00:00<?, ?it/s]"
      ]
     },
     "metadata": {},
     "output_type": "display_data"
    },
    {
     "data": {
      "application/vnd.jupyter.widget-view+json": {
       "model_id": "6e3bd6d2d23f4cf2949e6470a9ff7bd1",
       "version_major": 2,
       "version_minor": 0
      },
      "text/plain": [
       "  0%|          | 0/25 [00:00<?, ?it/s]"
      ]
     },
     "metadata": {},
     "output_type": "display_data"
    },
    {
     "data": {
      "application/vnd.jupyter.widget-view+json": {
       "model_id": "64ce8296cc0746ffbc7fe84af9fb0496",
       "version_major": 2,
       "version_minor": 0
      },
      "text/plain": [
       "  0%|          | 0/25 [00:00<?, ?it/s]"
      ]
     },
     "metadata": {},
     "output_type": "display_data"
    },
    {
     "data": {
      "application/vnd.jupyter.widget-view+json": {
       "model_id": "7c43463143bd4374b318f6536ee6ebbf",
       "version_major": 2,
       "version_minor": 0
      },
      "text/plain": [
       "  0%|          | 0/25 [00:00<?, ?it/s]"
      ]
     },
     "metadata": {},
     "output_type": "display_data"
    },
    {
     "data": {
      "application/vnd.jupyter.widget-view+json": {
       "model_id": "1dd73ab9dd93469b912d2004bbfba50d",
       "version_major": 2,
       "version_minor": 0
      },
      "text/plain": [
       "  0%|          | 0/25 [00:00<?, ?it/s]"
      ]
     },
     "metadata": {},
     "output_type": "display_data"
    },
    {
     "data": {
      "application/vnd.jupyter.widget-view+json": {
       "model_id": "aa2bab9bbf1b41458556f1e60b86446e",
       "version_major": 2,
       "version_minor": 0
      },
      "text/plain": [
       "  0%|          | 0/25 [00:00<?, ?it/s]"
      ]
     },
     "metadata": {},
     "output_type": "display_data"
    },
    {
     "data": {
      "application/vnd.jupyter.widget-view+json": {
       "model_id": "4c06584871bf496092e74e183b662c07",
       "version_major": 2,
       "version_minor": 0
      },
      "text/plain": [
       "  0%|          | 0/25 [00:00<?, ?it/s]"
      ]
     },
     "metadata": {},
     "output_type": "display_data"
    },
    {
     "data": {
      "application/vnd.jupyter.widget-view+json": {
       "model_id": "ec903f3ceba84f3b8d799bc2954edd99",
       "version_major": 2,
       "version_minor": 0
      },
      "text/plain": [
       "  0%|          | 0/25 [00:00<?, ?it/s]"
      ]
     },
     "metadata": {},
     "output_type": "display_data"
    },
    {
     "data": {
      "application/vnd.jupyter.widget-view+json": {
       "model_id": "eac63a2ea2544715a83e487ba8ceaab1",
       "version_major": 2,
       "version_minor": 0
      },
      "text/plain": [
       "  0%|          | 0/25 [00:00<?, ?it/s]"
      ]
     },
     "metadata": {},
     "output_type": "display_data"
    },
    {
     "data": {
      "application/vnd.jupyter.widget-view+json": {
       "model_id": "494b930ae4fa4fc9a81071b58aa04723",
       "version_major": 2,
       "version_minor": 0
      },
      "text/plain": [
       "  0%|          | 0/25 [00:00<?, ?it/s]"
      ]
     },
     "metadata": {},
     "output_type": "display_data"
    },
    {
     "data": {
      "application/vnd.jupyter.widget-view+json": {
       "model_id": "bdd7c46f62824c8e943b7de9872b65f9",
       "version_major": 2,
       "version_minor": 0
      },
      "text/plain": [
       "  0%|          | 0/25 [00:00<?, ?it/s]"
      ]
     },
     "metadata": {},
     "output_type": "display_data"
    },
    {
     "data": {
      "application/vnd.jupyter.widget-view+json": {
       "model_id": "d056925473144bb498f9f78d2a0e5272",
       "version_major": 2,
       "version_minor": 0
      },
      "text/plain": [
       "  0%|          | 0/25 [00:00<?, ?it/s]"
      ]
     },
     "metadata": {},
     "output_type": "display_data"
    }
   ],
   "source": [
    "model=ResNet(num_classes=10)\n",
    "model.to(device)\n",
    "lr = 1e-4\n",
    "import tqdm\n",
    "optim = Adam(model.parameters(), lr=lr)\n",
    "\n",
    "for epoch in range(30):\n",
    "    iterator = tqdm.notebook.tqdm(train_loader)\n",
    "    for data, label in iterator:\n",
    "        optim.zero_grad()\n",
    "        preds = model(data.to(device))\n",
    "        loss = nn.CrossEntropyLoss()(preds, label.to(device))\n",
    "        loss.backward()\n",
    "        optim.step()\n",
    "        iterator.set_description(f\"epoch: {epoch+1} loss: {loss.item()}\")\n",
    "torch.save(model.state_dict(), \"../model/ResNet.pth\")"
   ]
  },
  {
   "cell_type": "code",
   "execution_count": 5,
   "metadata": {},
   "outputs": [
    {
     "name": "stderr",
     "output_type": "stream",
     "text": [
      "/tmp/ipykernel_6341/914938994.py:4: TqdmDeprecationWarning: This function will be removed in tqdm==5.0.0\n",
      "Please use `tqdm.notebook.tqdm` instead of `tqdm.tqdm_notebook`\n",
      "  iterator = tqdm.tqdm_notebook(test_loader)\n"
     ]
    },
    {
     "data": {
      "application/vnd.jupyter.widget-view+json": {
       "model_id": "9e33577887e7433ebc859675271d33ff",
       "version_major": 2,
       "version_minor": 0
      },
      "text/plain": [
       "  0%|          | 0/5 [00:00<?, ?it/s]"
      ]
     },
     "metadata": {},
     "output_type": "display_data"
    },
    {
     "name": "stdout",
     "output_type": "stream",
     "text": [
      "Accuracy:0.8009\n"
     ]
    }
   ],
   "source": [
    "model.load_state_dict(torch.load(\"../model/ResNet.pth\",map_location=device))\n",
    "num_corr=0\n",
    "with torch.no_grad():\n",
    "    iterator = tqdm.tqdm_notebook(test_loader)\n",
    "    for data,label in iterator:\n",
    "        output=model(data.to(device))\n",
    "        preds=output.data.max(1)[1]\n",
    "        corr=preds.eq(label.to(device).data).sum().item()\n",
    "        num_corr+=corr\n",
    "\n",
    "    print(f\"Accuracy:{num_corr/len(test_data)}\")"
   ]
  },
  {
   "cell_type": "code",
   "execution_count": 12,
   "metadata": {},
   "outputs": [
    {
     "name": "stdout",
     "output_type": "stream",
     "text": [
      "----------------------------------------------------------------\n",
      "        Layer (type)               Output Shape         Param #\n",
      "================================================================\n",
      "            Conv2d-1           [-1, 64, 32, 32]           1,792\n",
      "       BatchNorm2d-2           [-1, 64, 32, 32]             128\n",
      "              ReLU-3           [-1, 64, 32, 32]               0\n",
      "            Conv2d-4           [-1, 64, 32, 32]          36,928\n",
      "       BatchNorm2d-5           [-1, 64, 32, 32]             128\n",
      "            Conv2d-6           [-1, 64, 32, 32]             256\n",
      "              ReLU-7           [-1, 64, 32, 32]               0\n",
      "        BasicBlock-8           [-1, 64, 32, 32]               0\n",
      "         AvgPool2d-9           [-1, 64, 16, 16]               0\n",
      "           Conv2d-10          [-1, 128, 16, 16]          73,856\n",
      "      BatchNorm2d-11          [-1, 128, 16, 16]             256\n",
      "             ReLU-12          [-1, 128, 16, 16]               0\n",
      "           Conv2d-13          [-1, 128, 16, 16]         147,584\n",
      "      BatchNorm2d-14          [-1, 128, 16, 16]             256\n",
      "           Conv2d-15          [-1, 128, 16, 16]           8,320\n",
      "             ReLU-16          [-1, 128, 16, 16]               0\n",
      "       BasicBlock-17          [-1, 128, 16, 16]               0\n",
      "        AvgPool2d-18            [-1, 128, 8, 8]               0\n",
      "           Conv2d-19            [-1, 256, 8, 8]         295,168\n",
      "      BatchNorm2d-20            [-1, 256, 8, 8]             512\n",
      "             ReLU-21            [-1, 256, 8, 8]               0\n",
      "           Conv2d-22            [-1, 256, 8, 8]         590,080\n",
      "      BatchNorm2d-23            [-1, 256, 8, 8]             512\n",
      "           Conv2d-24            [-1, 256, 8, 8]          33,024\n",
      "             ReLU-25            [-1, 256, 8, 8]               0\n",
      "       BasicBlock-26            [-1, 256, 8, 8]               0\n",
      "        AvgPool2d-27            [-1, 256, 4, 4]               0\n",
      "           Linear-28                 [-1, 2048]       8,390,656\n",
      "             ReLU-29                 [-1, 2048]               0\n",
      "           Linear-30                  [-1, 512]       1,049,088\n",
      "             ReLU-31                  [-1, 512]               0\n",
      "           Linear-32                   [-1, 10]           5,130\n",
      "================================================================\n",
      "Total params: 10,633,674\n",
      "Trainable params: 10,633,674\n",
      "Non-trainable params: 0\n",
      "----------------------------------------------------------------\n",
      "Input size (MB): 0.01\n",
      "Forward/backward pass size (MB): 7.26\n",
      "Params size (MB): 40.56\n",
      "Estimated Total Size (MB): 47.83\n",
      "----------------------------------------------------------------\n"
     ]
    }
   ],
   "source": [
    "import torchsummary\n",
    "torchsummary.summary(model,(3,32,32))"
   ]
  }
 ],
 "metadata": {
  "kernelspec": {
   "display_name": "LeeYS_torch",
   "language": "python",
   "name": "python3"
  },
  "language_info": {
   "codemirror_mode": {
    "name": "ipython",
    "version": 3
   },
   "file_extension": ".py",
   "mimetype": "text/x-python",
   "name": "python",
   "nbconvert_exporter": "python",
   "pygments_lexer": "ipython3",
   "version": "3.9.15"
  },
  "orig_nbformat": 4
 },
 "nbformat": 4,
 "nbformat_minor": 2
}
