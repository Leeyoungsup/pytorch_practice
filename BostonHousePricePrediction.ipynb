{
 "cells": [
  {
   "cell_type": "code",
   "execution_count": null,
   "metadata": {},
   "outputs": [],
   "source": [
    "import numpy as np \n",
    "import cv2\n",
    "import os \n",
    "import pandas as pd\n",
    "import torch\n",
    "import matplotlib.pyplot as plt\n",
    "import torch.nn as nn \n",
    "from torch.optim.adam import Adam\n",
    "import math\n",
    "from sklearn.datasets import load_boston\n",
    "dataset=load_boston()\n",
    "print(dataset.keys())\n",
    "device = torch.device(\"cuda:0\" if torch.cuda.is_available() else \"cpu\")"
   ]
  },
  {
   "cell_type": "code",
   "execution_count": null,
   "metadata": {},
   "outputs": [],
   "source": [
    "dataFrame=pd.DataFrame(dataset[\"data\"])\n",
    "dataFrame.columns=dataset[\"feature_names\"]\n",
    "dataFrame[\"target\"]=dataset[\"target\"]\n",
    "print(dataFrame.head())"
   ]
  },
  {
   "cell_type": "code",
   "execution_count": null,
   "metadata": {},
   "outputs": [],
   "source": [
    "model=nn.Sequential(\n",
    "    nn.Linear(13,100),\n",
    "    nn.ReLU(),\n",
    "    nn.Linear(100,1)\n",
    ")\n",
    "\n",
    "X=dataFrame.iloc[:,:13].values\n",
    "Y=dataFrame[\"target\"].values\n",
    "\n",
    "batch_size=100\n",
    "learning_rate=0.001\n",
    "optim=Adam(model.parameters(),lr=learning_rate)\n",
    "\n",
    "for epoch in range(2000):\n",
    "    for i in range(len(X)//batch_size):\n",
    "        start = i*batch_size\n",
    "        end=start + batch_size\n",
    "        x=torch.FloatTensor(X[start:end])\n",
    "        y=torch.FloatTensor(Y[start:end])\n",
    "        \n",
    "        optim.zero_grad()\n",
    "        preds=model(x)\n",
    "        loss=nn.MSELoss()(preds,y)\n",
    "        loss.backward()\n",
    "        optim.step()\n",
    "    if epoch%20==0:\n",
    "        print(f\"epoch:{epoch} loss:{loss.item()}\")"
   ]
  },
  {
   "cell_type": "code",
   "execution_count": 15,
   "metadata": {},
   "outputs": [
    {
     "name": "stdout",
     "output_type": "stream",
     "text": [
      "predition:23.913806915283203 real:24.0\n"
     ]
    }
   ],
   "source": [
    "prediction=model(torch.FloatTensor(X[0,:13]))\n",
    "real=Y[0]\n",
    "print(f\"predition:{prediction.item()} real:{real}\")"
   ]
  }
 ],
 "metadata": {
  "kernelspec": {
   "display_name": "LeeYS_torch",
   "language": "python",
   "name": "python3"
  },
  "language_info": {
   "codemirror_mode": {
    "name": "ipython",
    "version": 3
   },
   "file_extension": ".py",
   "mimetype": "text/x-python",
   "name": "python",
   "nbconvert_exporter": "python",
   "pygments_lexer": "ipython3",
   "version": "3.9.15"
  },
  "orig_nbformat": 4
 },
 "nbformat": 4,
 "nbformat_minor": 2
}
