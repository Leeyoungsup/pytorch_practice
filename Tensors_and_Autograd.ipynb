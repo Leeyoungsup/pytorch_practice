{
 "cells": [
  {
   "cell_type": "code",
   "execution_count": 1,
   "metadata": {},
   "outputs": [],
   "source": [
    "import numpy as np \n",
    "import cv2\n",
    "import os \n",
    "import torch\n",
    "device = torch.device(\"cuda:0\" if torch.cuda.is_available() else \"cpu\")"
   ]
  },
  {
   "cell_type": "code",
   "execution_count": 9,
   "metadata": {},
   "outputs": [
    {
     "name": "stdout",
     "output_type": "stream",
     "text": [
      "tensor([[1, 2, 3],\n",
      "        [4, 5, 6],\n",
      "        [7, 8, 9]])\n",
      "Size: torch.Size([3, 3])\n",
      "Shape: torch.Size([3, 3])\n",
      "랭크(차원): 2\n",
      "array to tensor: tensor([[1, 2, 3],\n",
      "        [4, 5, 6],\n",
      "        [7, 8, 9]])\n"
     ]
    }
   ],
   "source": [
    "x=torch.tensor([[1,2,3],[4,5,6],[7,8,9]])\n",
    "xn=np.array([[1,2,3],[4,5,6],[7,8,9]])\n",
    "xn_to_x=torch.tensor(xn)\n",
    "print(x)\n",
    "print(\"Size:\", x.size())\n",
    "print(\"Shape:\", x.shape)\n",
    "print(\"랭크(차원):\", x.ndimension())\n",
    "print(\"array to tensor:\",xn_to_x)"
   ]
  },
  {
   "cell_type": "code",
   "execution_count": 10,
   "metadata": {},
   "outputs": [
    {
     "name": "stdout",
     "output_type": "stream",
     "text": [
      "tensor([[[1, 2, 3],\n",
      "         [4, 5, 6],\n",
      "         [7, 8, 9]]])\n",
      "Size: torch.Size([1, 3, 3])\n",
      "Shape: torch.Size([1, 3, 3])\n",
      "랭크(차원): 3\n"
     ]
    }
   ],
   "source": [
    "# unsqueeze()를 사용하여 랭크 늘리기\n",
    "x = torch.unsqueeze(x, 0) # [3,3]형태의 랭크 2텐서의 첫번째(index상 0번째)자리에 1이라는 차원값을 추가해 [1,3,3]모양의 랭크3텐서로 변경\n",
    "print(x)\n",
    "print(\"Size:\", x.size())\n",
    "print(\"Shape:\", x.shape)\n",
    "print(\"랭크(차원):\", x.ndimension())"
   ]
  },
  {
   "cell_type": "code",
   "execution_count": 11,
   "metadata": {},
   "outputs": [
    {
     "name": "stdout",
     "output_type": "stream",
     "text": [
      "tensor([[1, 2, 3],\n",
      "        [4, 5, 6],\n",
      "        [7, 8, 9]])\n",
      "Size: torch.Size([3, 3])\n",
      "Shape: torch.Size([3, 3])\n",
      "랭크(차원): 2\n"
     ]
    }
   ],
   "source": [
    "# squeeze()를 사용하여 다시 랭크 줄이기\n",
    "x = torch.squeeze(x)\n",
    "print(x)\n",
    "print(\"Size:\", x.size())\n",
    "print(\"Shape:\", x.shape) #[3, 3] 2개의 차원에 각 3개의 원소를 가진 텐서\n",
    "print(\"랭크(차원):\", x.ndimension()) # 랭크는 변화했지만 원소 개수는 계속 9개로 영향을 받지 않습니다"
   ]
  },
  {
   "cell_type": "code",
   "execution_count": 12,
   "metadata": {},
   "outputs": [
    {
     "name": "stdout",
     "output_type": "stream",
     "text": [
      "tensor([1, 2, 3, 4, 5, 6, 7, 8, 9])\n",
      "Size: torch.Size([9])\n",
      "Shape: torch.Size([9])\n",
      "랭크(차원): 1\n"
     ]
    }
   ],
   "source": [
    "# view()를 사용하여 모양 바꾸기도 가능\n",
    "# 랭크의 형태 바꾸기\n",
    "x = x.view(9)\n",
    "print(x)\n",
    "print(\"Size:\", x.size())\n",
    "print(\"Shape:\", x.shape)\n",
    "print(\"랭크(차원):\", x.ndimension()) #단, 원소의 개수는 변경 불가능"
   ]
  },
  {
   "cell_type": "code",
   "execution_count": 13,
   "metadata": {},
   "outputs": [
    {
     "name": "stdout",
     "output_type": "stream",
     "text": [
      "shape '[2, 4]' is invalid for input of size 9\n"
     ]
    }
   ],
   "source": [
    "# 다음과 같이 원소가 9개인 텐서는 2x4, 즉 원소가 8개인 텐서로 변경할 수 없음\n",
    "try:\n",
    "    x = x.view(2,4)\n",
    "except Exception as e:\n",
    "    print(e) #에러 출력"
   ]
  },
  {
   "cell_type": "code",
   "execution_count": 14,
   "metadata": {},
   "outputs": [
    {
     "name": "stdout",
     "output_type": "stream",
     "text": [
      "w size: torch.Size([5, 3])\n",
      "x size: torch.Size([3, 2])\n",
      "w: tensor([[-1.2347,  0.3203,  1.0417],\n",
      "        [ 0.8615, -0.9614, -0.8118],\n",
      "        [ 0.1765, -0.4154, -0.7740],\n",
      "        [-0.1794,  0.3604, -0.6340],\n",
      "        [ 0.6440, -0.1896,  0.6256]])\n",
      "x: tensor([[1., 2.],\n",
      "        [3., 4.],\n",
      "        [5., 6.]])\n"
     ]
    }
   ],
   "source": [
    "# 행렬 w : 정규분포에서 무작위로 값을 뽑아 텐서를 생성하는 randn()함수로 지정\n",
    "# 행렬 x : 직접 실수형 원소들을 넣어 지정\n",
    "w = torch.randn(5,3, dtype=torch.float)\n",
    "x = torch.tensor([[1.0,2.0], [3.0,4.0], [5.0,6.0]])\n",
    "print(\"w size:\", w.size())\n",
    "print(\"x size:\", x.size())\n",
    "print(\"w:\", w)\n",
    "print(\"x:\", x)"
   ]
  },
  {
   "cell_type": "code",
   "execution_count": 15,
   "metadata": {},
   "outputs": [
    {
     "name": "stdout",
     "output_type": "stream",
     "text": [
      "b: torch.Size([5, 2])\n",
      "b: tensor([[ 0.8202, -0.0946],\n",
      "        [-0.7365,  0.8246],\n",
      "        [ 0.7480, -0.3265],\n",
      "        [-2.2177,  0.2945],\n",
      "        [ 1.1853, -0.2240]])\n"
     ]
    }
   ],
   "source": [
    "# 다른 행렬 연산에 쓰일 b라는 텐서 추가지정\n",
    "b = torch.randn(5,2, dtype=torch.float)\n",
    "print(\"b:\", b.size())\n",
    "print(\"b:\", b)"
   ]
  },
  {
   "cell_type": "code",
   "execution_count": 16,
   "metadata": {},
   "outputs": [
    {
     "name": "stdout",
     "output_type": "stream",
     "text": [
      "wx size: torch.Size([5, 2])\n",
      "wx: tensor([[ 4.9345,  5.0617],\n",
      "        [-6.0815, -6.9932],\n",
      "        [-4.9394, -5.9522],\n",
      "        [-2.2684, -2.7214],\n",
      "        [ 3.2034,  4.2835]])\n"
     ]
    }
   ],
   "source": [
    "# torch.mm()함수를 이용해 행렬곱 수행\n",
    "wx = torch.mm(w,x) # w의 행은 5, x의 열은 2, 즉 shape는 [5, 2]입니다.\n",
    "print(\"wx size:\", wx.size())\n",
    "print(\"wx:\", wx)"
   ]
  },
  {
   "cell_type": "code",
   "execution_count": 17,
   "metadata": {},
   "outputs": [
    {
     "name": "stdout",
     "output_type": "stream",
     "text": [
      "result size: torch.Size([5, 2])\n",
      "result: tensor([[ 5.7546,  4.9670],\n",
      "        [-6.8180, -6.1686],\n",
      "        [-4.1914, -6.2787],\n",
      "        [-4.4861, -2.4269],\n",
      "        [ 4.3887,  4.0595]])\n"
     ]
    }
   ],
   "source": [
    "# wx 행렬의 원소에 b 행렬의 원소 더하기\n",
    "result = wx + b\t\n",
    "print(\"result size:\", result.size()) \n",
    "print(\"result:\", result) "
   ]
  },
  {
   "cell_type": "code",
   "execution_count": 19,
   "metadata": {},
   "outputs": [],
   "source": [
    "#값이 1.0인 스칼라 텐서 w를 정의하고 수식을 w에 대해 미분하여 기울기를 계산합니다\n",
    "# requires_grad = True로 설정하면 파이토치의 Autograd 기능이 자동으로 계산할 때 w에 대한 미분값을 w.grad에 저장합니다.\n",
    "w = torch.tensor(1.0, requires_grad=True)"
   ]
  },
  {
   "cell_type": "code",
   "execution_count": 20,
   "metadata": {},
   "outputs": [],
   "source": [
    "#수식 a = w x 3을 정의합니다\n",
    "a = w*3\n",
    "# w에 3을 곱한 a를 제곱하여 l을 만듭니다\n",
    "l = a**2"
   ]
  },
  {
   "cell_type": "code",
   "execution_count": 21,
   "metadata": {},
   "outputs": [
    {
     "name": "stdout",
     "output_type": "stream",
     "text": [
      "tensor(18.)\n",
      "l을 w로 미분한 값은 18.0\n"
     ]
    }
   ],
   "source": [
    "#l을 w로 미분하려면 연쇄법칙(chain rule)을 이용하여 a와 w로 차례대로 미분합니다. -> .backward()함수를 사용합니다\n",
    "l.backward()\n",
    "print(w.grad)\n",
    "print('l을 w로 미분한 값은 {}'.format(w.grad))"
   ]
  }
 ],
 "metadata": {
  "kernelspec": {
   "display_name": "LeeYS_pytorch",
   "language": "python",
   "name": "python3"
  },
  "language_info": {
   "codemirror_mode": {
    "name": "ipython",
    "version": 3
   },
   "file_extension": ".py",
   "mimetype": "text/x-python",
   "name": "python",
   "nbconvert_exporter": "python",
   "pygments_lexer": "ipython3",
   "version": "3.8.13"
  },
  "orig_nbformat": 4
 },
 "nbformat": 4,
 "nbformat_minor": 2
}
