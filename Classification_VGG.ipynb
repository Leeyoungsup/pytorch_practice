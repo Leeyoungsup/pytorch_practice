{
 "cells": [
  {
   "cell_type": "code",
   "execution_count": null,
   "metadata": {},
   "outputs": [],
   "source": [
    "import numpy as np \n",
    "import cv2\n",
    "from PIL import Image\n",
    "import matplotlib.pyplot as plt \n",
    "import os\n",
    "import torch\n",
    "import torch.nn as nn\n",
    "from torchvision.datasets.cifar import CIFAR10\n",
    "from torchvision.transforms import ToTensor\n",
    "import torchvision.transforms as T \n",
    "from torchvision.transforms import Compose\n",
    "from torchvision.transforms import RandomHorizontalFlip, RandomCrop,Normalize\n",
    "from torch.utils.data.dataloader import DataLoader\n",
    "from torch.optim.adam import Adam\n",
    "device='cuda:0' if torch.cuda.is_available() else 'cpu'\n",
    "device\n"
   ]
  },
  {
   "attachments": {},
   "cell_type": "markdown",
   "metadata": {},
   "source": [
    "데이터 불러오기"
   ]
  },
  {
   "cell_type": "code",
   "execution_count": null,
   "metadata": {},
   "outputs": [],
   "source": [
    "training_data=CIFAR10(\n",
    "    root='../data/',\n",
    "    train=True,\n",
    "    download=True,\n",
    "    transform=ToTensor()\n",
    ")\n",
    "test_data=CIFAR10(\n",
    "    root='../data/',\n",
    "    train=False,\n",
    "    download=True,\n",
    "    transform=ToTensor()\n",
    ")\n",
    "\n",
    "for i in range(9):\n",
    "    plt.subplot(3,3,i+1)\n",
    "    plt.imshow(training_data.data[i])\n",
    "plt.show()"
   ]
  },
  {
   "attachments": {},
   "cell_type": "markdown",
   "metadata": {},
   "source": [
    "데이터 증강"
   ]
  },
  {
   "cell_type": "code",
   "execution_count": null,
   "metadata": {},
   "outputs": [],
   "source": [
    "transforms=Compose([\n",
    "    T.ToPILImage(),\n",
    "    RandomCrop((32,32),padding=4),\n",
    "    RandomHorizontalFlip(p=0.5),\n",
    "])\n",
    "\n",
    "training_data=CIFAR10(\n",
    "    root='../data/',\n",
    "    train=True,\n",
    "    download=True,\n",
    "    transform=transforms\n",
    ")\n",
    "test_data=CIFAR10(\n",
    "    root='../data/',\n",
    "    train=False,\n",
    "    download=True,\n",
    "    transform=transforms\n",
    ")\n",
    "\n",
    "for i in range(9):\n",
    "    plt.subplot(3,3,i+1)\n",
    "    plt.imshow(transforms(training_data.data[i]))\n",
    "plt.show()\n"
   ]
  },
  {
   "attachments": {},
   "cell_type": "markdown",
   "metadata": {},
   "source": [
    "데이터 정규화"
   ]
  },
  {
   "cell_type": "code",
   "execution_count": null,
   "metadata": {},
   "outputs": [],
   "source": [
    "transforms=Compose([\n",
    "    T.ToPILImage(),\n",
    "    RandomCrop((32,32),padding=4),\n",
    "    RandomHorizontalFlip(p=0.5),\n",
    "    T.ToTensor(),\n",
    "    \n",
    "    Normalize(mean=(0.4914,0.4822,0.4465),std=(0.247,0.243,0.261)),\n",
    "    T.ToPILImage()\n",
    "])\n",
    "\n",
    "training_data=CIFAR10(\n",
    "    root='../data/',\n",
    "    train=True,\n",
    "    download=True,\n",
    "    transform=transforms\n",
    ")\n",
    "test_data=CIFAR10(\n",
    "    root='../data/',\n",
    "    train=False,\n",
    "    download=True,\n",
    "    transform=transforms\n",
    ")\n",
    "\n",
    "for i in range(9):\n",
    "    plt.subplot(3,3,i+1)\n",
    "    plt.imshow(transforms(training_data.data[i]))\n",
    "plt.show()"
   ]
  },
  {
   "attachments": {},
   "cell_type": "markdown",
   "metadata": {},
   "source": [
    "데이터셋의 평균과 표준편차"
   ]
  },
  {
   "cell_type": "code",
   "execution_count": null,
   "metadata": {},
   "outputs": [],
   "source": [
    "training_data=CIFAR10(\n",
    "    root='../data/',\n",
    "    train=True,\n",
    "    download=True,\n",
    "    transform=ToTensor()\n",
    ")\n",
    "\n",
    "imgs=[item[0] for item in training_data]\n",
    "imgs= torch.stack(imgs,dim=0).numpy()\n",
    "\n",
    "mean_r = imgs[:,0,:,:].mean()\n",
    "mean_g = imgs[:,1,:,:].mean()\n",
    "mean_b = imgs[:,2,:,:].mean()\n",
    "print(mean_r,mean_g,mean_b)\n",
    "\n",
    "std_r = imgs[:,0,:,:].std()\n",
    "std_g = imgs[:,1,:,:].std()\n",
    "std_b = imgs[:,2,:,:].std()\n",
    "print(std_r,std_g,std_b)"
   ]
  },
  {
   "attachments": {},
   "cell_type": "markdown",
   "metadata": {},
   "source": [
    "BasicBlock"
   ]
  },
  {
   "cell_type": "code",
   "execution_count": null,
   "metadata": {},
   "outputs": [],
   "source": [
    "class BasicBlock(nn.Module):\n",
    "    def __init__(self,in_channels,out_channels,hidden_dim):\n",
    "        super(BasicBlock,self).__init__()\n",
    "        self.conv1=nn.Conv2d(in_channels,hidden_dim,kernel_size=3,padding=1)\n",
    "        self.conv2=nn.Conv2d(hidden_dim,out_channels,kernel_size=3,padding=1)\n",
    "        self.relu=nn.ReLU()\n",
    "        self.pool=nn.MaxPool2d(kernel_size=2,stride=2)\n",
    "        \n",
    "    def forward(self,x):\n",
    "        x=self.conv1(x)\n",
    "        x=self.relu(x)\n",
    "        x=self.conv2(x)\n",
    "        x=self.relu(x)\n",
    "        x=self.pool(x)\n",
    "        \n",
    "        return x\n",
    "    "
   ]
  },
  {
   "attachments": {},
   "cell_type": "markdown",
   "metadata": {},
   "source": [
    "CNN 모델 정의"
   ]
  },
  {
   "cell_type": "code",
   "execution_count": null,
   "metadata": {},
   "outputs": [],
   "source": [
    "class CNN(nn.Module):\n",
    "    def __init__(self,num_class):\n",
    "        super(CNN,self).__init__()\n",
    "        self.block1=BasicBlock(in_channels=3,out_channels=32,hidden_dim=16)\n",
    "        self.block2=BasicBlock(in_channels=32,out_channels=128,hidden_dim=64)\n",
    "        self.block3=BasicBlock(in_channels=128,out_channels=256,hidden_dim=128)\n",
    "        \n",
    "        self.fc1=nn.Linear(in_features=4096,out_features=2048)\n",
    "        self.fc2=nn.Linear(in_features=2048,out_features=256)\n",
    "        self.fc3=nn.Linear(in_features=256,out_features=num_class)\n",
    "        \n",
    "        self.relu=nn.ReLU()\n",
    "        \n",
    "    def forward(self,x):\n",
    "        x=self.block1(x)\n",
    "        x=self.block2(x)\n",
    "        x=self.block3(x)\n",
    "        x=torch.flatten(x,start_dim=1)\n",
    "        x=self.fc1(x)\n",
    "        x=self.relu(x)\n",
    "        x=self.fc2(x)\n",
    "        x=self.relu(x)\n",
    "        x=self.fc3(x)\n",
    "        \n",
    "        return x"
   ]
  },
  {
   "cell_type": "code",
   "execution_count": null,
   "metadata": {},
   "outputs": [],
   "source": [
    "from torchvision.transforms import Resize,RandomHorizontalFlip,RandomCrop\n",
    "transforms=Compose([\n",
    "    Resize(224),\n",
    "    RandomCrop((224,224),padding=4),\n",
    "    RandomHorizontalFlip(p=0.5),\n",
    "    T.ToTensor(),\n",
    "    Normalize(mean=(0.4914,0.4822,0.4465),std=(0.247,0.243,0.261)),\n",
    "])\n",
    "\n",
    "training_data=CIFAR10(\n",
    "    root='../data/',\n",
    "    train=True,\n",
    "    download=True,\n",
    "    transform=transforms\n",
    ")\n",
    "test_data=CIFAR10(\n",
    "    root='../data/',\n",
    "    train=False,\n",
    "    download=True,\n",
    "    transform=transforms\n",
    ")\n",
    "\n",
    "train_loader=DataLoader(training_data,batch_size=64,shuffle=True)\n",
    "test_loader=DataLoader(test_data,batch_size=64,shuffle=False)"
   ]
  },
  {
   "cell_type": "code",
   "execution_count": null,
   "metadata": {},
   "outputs": [],
   "source": [
    "from torchvision.models.vgg import vgg16\n",
    "\n",
    "model=vgg16(pretrained=True)\n",
    "fc=nn.Sequential(\n",
    "    nn.Linear(512*7*7,4096),\n",
    "    nn.ReLU(),\n",
    "    nn.Dropout(),\n",
    "    nn.Linear(4096,4096),\n",
    "    nn.ReLU(),\n",
    "    nn.Dropout(),\n",
    "    nn.Linear(4096,10)\n",
    ")\n",
    "model.classifier=fc\n",
    "model.to(device)\n"
   ]
  },
  {
   "cell_type": "code",
   "execution_count": 4,
   "metadata": {},
   "outputs": [],
   "source": [
    "lr = 1e-4\n",
    "import tqdm\n",
    "optim = Adam(model.parameters(), lr=lr)\n",
    "\n",
    "for epoch in range(30):\n",
    "    iterator = tqdm.tqdm_notebook(train_loader)\n",
    "    for data, label in iterator:\n",
    "        optim.zero_grad()\n",
    "        preds = model(data.to(device))\n",
    "        loss = nn.CrossEntropyLoss()(preds, label.to(device))\n",
    "        loss.backward()\n",
    "        optim.step()\n",
    "        iterator.set_description(f\"epoch: {epoch+1} loss: {loss.item()}\")\n",
    "torch.save(model.state_dict(), \"../model/CIFAR.pth\")"
   ]
  },
  {
   "cell_type": "code",
   "execution_count": 9,
   "metadata": {},
   "outputs": [
    {
     "name": "stderr",
     "output_type": "stream",
     "text": [
      "/tmp/ipykernel_1350319/827711619.py:4: TqdmDeprecationWarning: This function will be removed in tqdm==5.0.0\n",
      "Please use `tqdm.notebook.tqdm` instead of `tqdm.tqdm_notebook`\n",
      "  iterator = tqdm.tqdm_notebook(test_loader)\n"
     ]
    },
    {
     "data": {
      "application/vnd.jupyter.widget-view+json": {
       "model_id": "0a6fa38ea6384bb0acea65c4ae758b03",
       "version_major": 2,
       "version_minor": 0
      },
      "text/plain": [
       "  0%|          | 0/157 [00:00<?, ?it/s]"
      ]
     },
     "metadata": {},
     "output_type": "display_data"
    },
    {
     "name": "stdout",
     "output_type": "stream",
     "text": [
      "Accuracy:0.9247\n"
     ]
    }
   ],
   "source": [
    "model.load_state_dict(torch.load(\"../model/CIFAR.pth\",map_location=device))\n",
    "num_corr=0\n",
    "with torch.no_grad():\n",
    "    iterator = tqdm.tqdm_notebook(test_loader)\n",
    "    for data,label in iterator:\n",
    "        output=model(data.to(device))\n",
    "        preds=output.data.max(1)[1]\n",
    "        corr=preds.eq(label.to(device).data).sum().item()\n",
    "        num_corr+=corr\n",
    "\n",
    "    print(f\"Accuracy:{num_corr/len(test_data)}\")"
   ]
  }
 ],
 "metadata": {
  "kernelspec": {
   "display_name": "LeeYS_torch",
   "language": "python",
   "name": "python3"
  },
  "language_info": {
   "codemirror_mode": {
    "name": "ipython",
    "version": 3
   },
   "file_extension": ".py",
   "mimetype": "text/x-python",
   "name": "python",
   "nbconvert_exporter": "python",
   "pygments_lexer": "ipython3",
   "version": "3.9.15"
  },
  "orig_nbformat": 4
 },
 "nbformat": 4,
 "nbformat_minor": 2
}
